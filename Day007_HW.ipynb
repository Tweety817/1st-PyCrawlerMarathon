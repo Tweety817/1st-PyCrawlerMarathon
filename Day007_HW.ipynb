{
 "cells": [
  {
   "cell_type": "code",
   "execution_count": 1,
   "metadata": {},
   "outputs": [],
   "source": [
    "#1. （簡答題）請問目前提到的這種基於 HTTP 一來一回的網頁傳輸方式，有哪些缺點及問題？\n",
    "\n",
    "# 通信使用明文（不加密），內容可能會被竊聽。\n",
    "# 不驗證通信方的身份，因此有可能遭遇偽裝（客戶端和服務端都有可能）。\n",
    "# 無法證明報文的完整性，有可能會被篡改。"
   ]
  },
  {
   "cell_type": "code",
   "execution_count": 1,
   "metadata": {},
   "outputs": [],
   "source": [
    "#2. （簡答題）第 16 頁所使用的 JavaScipt 程式語言，跟我們一般使用的 Python 在執行上有什麼不同。\n",
    "\n",
    "# Javascrip是單執行緒。\n",
    "# Python通過thread包支援多執行緒。\n",
    "\n",
    "# 在Python中，有的資料型別是不可改變的，也就意味著這種型別的資料不能被修改，所有的修改都會返回新的物件。\n",
    "# 而在Javascript中所有的資料型別都是可以改變的。\n",
    "# Python引入不可改變型別是為了支援執行緒安全，而因為Javascript是單執行緒模型，所以沒有必要引入不可改變型別。\n",
    "\n",
    "# ===============================\n",
    "#資料參考:\n",
    "# https://codertw.com/%E7%A8%8B%E5%BC%8F%E8%AA%9E%E8%A8%80/15815/\n",
    "# 這篇寫的比較很詳細。作答以外也適合理解語言本身。"
   ]
  }
 ],
 "metadata": {
  "kernelspec": {
   "display_name": "Python 3",
   "language": "python",
   "name": "python3"
  },
  "language_info": {
   "codemirror_mode": {
    "name": "ipython",
    "version": 3
   },
   "file_extension": ".py",
   "mimetype": "text/x-python",
   "name": "python",
   "nbconvert_exporter": "python",
   "pygments_lexer": "ipython3",
   "version": "3.7.4"
  }
 },
 "nbformat": 4,
 "nbformat_minor": 2
}
