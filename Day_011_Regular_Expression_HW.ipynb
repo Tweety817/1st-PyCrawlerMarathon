{
 "cells": [
  {
   "cell_type": "code",
   "execution_count": 23,
   "metadata": {},
   "outputs": [
    {
     "name": "stdout",
     "output_type": "stream",
     "text": [
      "Matched: 216.58.200.227\n",
      "  group(0): 216.58.200.227\n",
      "  group(1): 216\n",
      "  group(2): 58\n",
      "  group(3): 200\n",
      "  group(4): 227\n"
     ]
    }
   ],
   "source": [
    "import re \n",
    "\n",
    "# 定義一個函數，用來測試是否能匹配正規表達式\n",
    "def RegexMatchingTest(regex, input_text):\n",
    "    #將正規表達式轉換成pattern\n",
    "    pattern = re.compile(regex)\n",
    "    result = re.search(pattern, input_text)\n",
    "\n",
    "    if result:\n",
    "        # 匹配完的結果會儲存在group()的屬性中，我們可以把匹配的結果列印出來\n",
    "        print(\"Matched: %s\" % (result.group()))\n",
    "        \n",
    "        if result.lastindex is not None:\n",
    "            # group(0)代表整個字串，group(1)、group(2)...代表分組中，匹配的內容\n",
    "            for i in range(0, result.lastindex+1):\n",
    "                print(\"  group(%d): %s\" % (i, result.group(i)))\n",
    "    else:\n",
    "        print(\"Not matched.\")\n",
    "        \n",
    "        \n",
    "# 過濾IP address的regex pattern\n",
    "test_string = \"Google IP address is 216.58.200.227\"\n",
    "regex = '(\\d{1,3}).(\\d{1,3}).(\\d{1,3}).(\\d{1,3})'\n",
    "RegexMatchingTest(regex, test_string)\n"
   ]
  },
  {
   "cell_type": "code",
   "execution_count": 55,
   "metadata": {},
   "outputs": [
    {
     "name": "stdout",
     "output_type": "stream",
     "text": [
      "Matched: 216.58.200.22\n",
      "  group(0): 216.58.200.22\n",
      "  group(1): 200.\n",
      "  group(2): 200\n",
      "  group(3): 22\n",
      "Not matched.\n"
     ]
    }
   ],
   "source": [
    "#只接受[0~255].[0~255].[0~255].[0~255]這種合法的IP address\n",
    "CorrectRegex = r'(([01]?[0-9]?[0-9]|2[0-4][0-9]|2[5][0-5])\\.){3}([01]?[0-9]?[0-9]|2[0-4][0-9]|2[5][0-5])'# CorrectRegex = r'(([01]?[0-9]?[0-9]|2[0-4][0-9]|2[5][0-5])\\.){3}([01]?[0-9]?[0-9]|2[0-4][0-9]|2[5][0-5])'\n",
    "test_string1 = \"216.58.200.227\"\n",
    "RegexMatchingTest(CorrectRegex, test_string1)  #測試表達式是否會匹配此合法IP\n",
    "\n",
    "test_string2 = \"999.888.777.666\"\n",
    "RegexMatchingTest(CorrectRegex, test_string2)  #測試表達式是否會匹配此不合法IP"
   ]
  },
  {
   "cell_type": "code",
   "execution_count": 83,
   "metadata": {},
   "outputs": [
    {
     "name": "stdout",
     "output_type": "stream",
     "text": [
      "<re.Match object; span=(8, 66), match='https://movies.yahoo.com.tw/movietime_result.html>\n"
     ]
    }
   ],
   "source": [
    "#用正規表達式過濾URL 把\"href=\"之後的URL擷取出來\n",
    "def RegexMatch(regex, input_text):\n",
    "     #將正規表達式轉換成pattern\n",
    "    pattern = re.compile(regex)\n",
    "    result = re.search(pattern, input_text)\n",
    "    print(result)\n",
    "\n",
    "html_a_tag = \"<a href=https://movies.yahoo.com.tw/movietime_result.html/id=9467> 時刻表 </a>\"\n",
    "# regex = r'href=[\\'\"]?([^\\'\">]+)'\n",
    "regex='http[s]?://(?:[a-zA-Z]|[0-9]|[$-_@.&+]|[!*\\(\\),]|(?:%[0-9a-fA-F][0-9a-fA-F]))+'\n",
    "RegexMatch(regex, html_a_tag)"
   ]
  },
  {
   "cell_type": "code",
   "execution_count": null,
   "metadata": {},
   "outputs": [],
   "source": []
  }
 ],
 "metadata": {
  "kernelspec": {
   "display_name": "Python 3",
   "language": "python",
   "name": "python3"
  },
  "language_info": {
   "codemirror_mode": {
    "name": "ipython",
    "version": 3
   },
   "file_extension": ".py",
   "mimetype": "text/x-python",
   "name": "python",
   "nbconvert_exporter": "python",
   "pygments_lexer": "ipython3",
   "version": "3.7.4"
  }
 },
 "nbformat": 4,
 "nbformat_minor": 2
}
