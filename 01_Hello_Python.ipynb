{
 "cells": [
  {
   "cell_type": "code",
   "execution_count": 44,
   "metadata": {},
   "outputs": [
    {
     "name": "stdout",
     "output_type": "stream",
     "text": [
      "檔案、API、爬蟲三種取得資料方式有什麼不同？\n",
      "檔案、API是由擁有者主動釋出，爬蟲是擁有者將資料被動公開，如果前兩者都沒有，才會考慮用爬蟲方式取得資料。\n",
      "字數 11\n",
      "內容 Holle World\n",
      "檔案字數符合\n",
      "Homework.txt\n",
      "Homework.txt 在Data資料夾內\n"
     ]
    }
   ],
   "source": [
    "from urllib.request import urlretrieve\n",
    "import os, sys\n",
    "print(\"檔案、API、爬蟲三種取得資料方式有什麼不同？\")\n",
    "print(\"檔案、API是由擁有者主動釋出，爬蟲是擁有者將資料被動公開，如果前兩者都沒有，才會考慮用爬蟲方式取得資料。\")\n",
    "try:\n",
    "    os.makedirs( './Data', exist_ok=True )\n",
    "    urlretrieve(\"https://www.w3.org/TR/PNG/iso_8859-1.txt\",\"Homework.txt\")\n",
    "    hw = open(\"./Data/Homework.txt\",\"w\")\n",
    "    n= hw.write(\"Holle World\")\n",
    "    hw.close()\n",
    "    print('字數',n)\n",
    "    hw = open(\"./Data/Homework.txt\",\"r\")\n",
    "    c=hw.read()\n",
    "    print('內容',c)\n",
    "except:\n",
    "    print('oops~~~')\n",
    "\n",
    "\n",
    "hw = open(\"./Data/Homework.txt\",\"r\")\n",
    "n= hw.read()\n",
    "if len('Hello World') == len(n):\n",
    "    print('檔案字數符合')\n",
    "else:\n",
    "    print('檔案字數不符合')\n",
    "    \n",
    "\n",
    "dirs = os.listdir( './Data' )\n",
    "for file in dirs:\n",
    "    print(file)\n",
    "    \n",
    "if 'Homework.txt' in dirs:\n",
    "    print('Homework.txt 在Data資料夾內')\n",
    "else:\n",
    "    print('Homework.txt 不在Data資料夾內')\n",
    "    \n"
   ]
  },
  {
   "cell_type": "code",
   "execution_count": null,
   "metadata": {},
   "outputs": [],
   "source": []
  }
 ],
 "metadata": {
  "kernelspec": {
   "display_name": "Python 3",
   "language": "python",
   "name": "python3"
  },
  "language_info": {
   "codemirror_mode": {
    "name": "ipython",
    "version": 3
   },
   "file_extension": ".py",
   "mimetype": "text/x-python",
   "name": "python",
   "nbconvert_exporter": "python",
   "pygments_lexer": "ipython3",
   "version": "3.7.4"
  }
 },
 "nbformat": 4,
 "nbformat_minor": 2
}
